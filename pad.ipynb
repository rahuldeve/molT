{
 "cells": [
  {
   "cell_type": "code",
   "execution_count": 1,
   "metadata": {},
   "outputs": [],
   "source": [
    "from datasets import load_dataset\n",
    "from molT import MolTConfig, MolTTokenizer, MolTForMaskedMM, DataCollatorForMaskedMolecularModeling\n",
    "from functools import partial\n",
    "\n",
    "from transformers import Trainer, TrainingArguments"
   ]
  },
  {
   "cell_type": "code",
   "execution_count": 2,
   "metadata": {},
   "outputs": [],
   "source": [
    "# import rdkit.Chem as Chem\n",
    "# smiles = 'CC'\n",
    "# from rdkit.Chem.Descriptors import CalcMolDescriptors\n",
    "# mol = Chem.MolFromSmiles(smiles)\n",
    "# CalcMolDescriptors(mol)"
   ]
  },
  {
   "cell_type": "code",
   "execution_count": 3,
   "metadata": {},
   "outputs": [],
   "source": [
    "model_config = MolTConfig()\n",
    "tokenizer = MolTTokenizer(model_config)\n",
    "model = MolTForMaskedMM(model_config)"
   ]
  },
  {
   "cell_type": "code",
   "execution_count": 4,
   "metadata": {},
   "outputs": [
    {
     "data": {
      "application/vnd.jupyter.widget-view+json": {
       "model_id": "5e1086abfbcd4534a072f5a9da0c21cd",
       "version_major": 2,
       "version_minor": 0
      },
      "text/plain": [
       "Map (num_proc=8):   0%|          | 0/3750 [00:00<?, ? examples/s]"
      ]
     },
     "metadata": {},
     "output_type": "display_data"
    },
    {
     "data": {
      "application/vnd.jupyter.widget-view+json": {
       "model_id": "c4b0b51536ff4d51ad49b4adf6a5f1ef",
       "version_major": 2,
       "version_minor": 0
      },
      "text/plain": [
       "Map (num_proc=8):   0%|          | 0/1250 [00:00<?, ? examples/s]"
      ]
     },
     "metadata": {},
     "output_type": "display_data"
    }
   ],
   "source": [
    "def tokenize(entry, tokenizer):\n",
    "    return tokenizer(entry['smiles'], truncation=False, return_attention_mask=True, return_special_tokens_mask=True)\n",
    "\n",
    "def load_data(tokenizer):\n",
    "    ds = load_dataset(\"sagawa/ZINC-canonicalized\")['validation'].select(range(5000)).train_test_split()\n",
    "    tok_func = partial(tokenize, tokenizer=tokenizer)\n",
    "    ds = ds.map(tok_func, num_proc=8)\n",
    "    return ds\n",
    "\n",
    "ds = load_data(tokenizer)"
   ]
  },
  {
   "cell_type": "code",
   "execution_count": 5,
   "metadata": {},
   "outputs": [],
   "source": [
    "tokenizer.pad_token = tokenizer.eos_token\n",
    "data_collator = DataCollatorForMaskedMolecularModeling(tokenizer=tokenizer, mlm_probability=0.15)"
   ]
  },
  {
   "cell_type": "code",
   "execution_count": 6,
   "metadata": {},
   "outputs": [
    {
     "data": {
      "application/vnd.jupyter.widget-view+json": {
       "model_id": "f2e249a1fbbf4dd192eef2fde6900598",
       "version_major": 2,
       "version_minor": 0
      },
      "text/plain": [
       "  0%|          | 0/4 [00:00<?, ?it/s]"
      ]
     },
     "metadata": {},
     "output_type": "display_data"
    },
    {
     "name": "stdout",
     "output_type": "stream",
     "text": [
      "{'loss': 21.8381, 'learning_rate': 0.00013333333333333334, 'epoch': 1.08}\n",
      "{'loss': 69.4462, 'learning_rate': 0.0, 'epoch': 2.17}\n"
     ]
    },
    {
     "data": {
      "application/vnd.jupyter.widget-view+json": {
       "model_id": "0f8d73bbb8584af9ab31b86620c27c5d",
       "version_major": 2,
       "version_minor": 0
      },
      "text/plain": [
       "  0%|          | 0/40 [00:00<?, ?it/s]"
      ]
     },
     "metadata": {},
     "output_type": "display_data"
    },
    {
     "name": "stdout",
     "output_type": "stream",
     "text": [
      "{'eval_loss': 28.63437843322754, 'eval_mm_loss': 2.345188856124878, 'eval_atom_prop_loss': 2.382370710372925, 'eval_bond_prop_loss': 1.6494123935699463, 'eval_mol_desc_loss': 2179.296875, 'eval_runtime': 9.466, 'eval_samples_per_second': 132.052, 'eval_steps_per_second': 4.226, 'epoch': 2.17}\n",
      "{'train_runtime': 152.2793, 'train_samples_per_second': 98.503, 'train_steps_per_second': 0.026, 'train_loss': 45.64213275909424, 'epoch': 2.17}\n"
     ]
    },
    {
     "data": {
      "text/plain": [
       "TrainOutput(global_step=4, training_loss=45.64213275909424, metrics={'train_runtime': 152.2793, 'train_samples_per_second': 98.503, 'train_steps_per_second': 0.026, 'train_loss': 45.64213275909424, 'epoch': 2.17})"
      ]
     },
     "execution_count": 6,
     "metadata": {},
     "output_type": "execute_result"
    }
   ],
   "source": [
    "from sklearn.metrics import r2_score\n",
    "from transformers.trainer_utils import SchedulerType\n",
    "from transformers import TrainerCallback\n",
    "\n",
    "def fn_metrics(eval_pred):\n",
    "    mm_loss, atom_prop_loss, bond_prop_loss, mol_desc_loss = eval_pred.predictions\n",
    "    return {\n",
    "        \"mm_loss\": mm_loss.mean(),\n",
    "        'atom_prop_loss': atom_prop_loss.mean(),\n",
    "        'bond_prop_loss': bond_prop_loss.mean(),\n",
    "        'mol_desc_loss': mol_desc_loss.mean()\n",
    "    }\n",
    "\n",
    "training_args = TrainingArguments(\n",
    "    output_dir=\"molT_runs\",\n",
    "    evaluation_strategy=\"steps\",\n",
    "    learning_rate=2e-4,\n",
    "    num_train_epochs=4,\n",
    "    weight_decay=0.01,\n",
    "    push_to_hub=False,\n",
    "    logging_steps=2,\n",
    "    per_device_train_batch_size=32,\n",
    "    per_device_eval_batch_size=32,  \n",
    "    eval_steps=4,\n",
    "    gradient_accumulation_steps=64,\n",
    "    warmup_ratio=0.2,\n",
    "    report_to='tensorboard',\n",
    "    # dataloader_num_workers=4,\n",
    "    # lr_scheduler_type=SchedulerType.COSINE_WITH_RESTARTS,\n",
    "    data_seed=42,\n",
    "    # label_names = ['reg'],\n",
    "    # load_best_model_at_end = True,\n",
    "    # metric_for_best_model = \"eval_loss\",\n",
    "    # max_grad_norm=0.5\n",
    "    # greater_is_better = False\n",
    ")\n",
    "\n",
    "trainer = Trainer(\n",
    "    model=model,\n",
    "    args=training_args,\n",
    "    train_dataset=ds[\"train\"],\n",
    "    eval_dataset=ds[\"test\"],\n",
    "    data_collator=data_collator,\n",
    "    compute_metrics=fn_metrics,\n",
    ")\n",
    "\n",
    "trainer.train()"
   ]
  },
  {
   "cell_type": "code",
   "execution_count": null,
   "metadata": {},
   "outputs": [],
   "source": []
  },
  {
   "cell_type": "code",
   "execution_count": null,
   "metadata": {},
   "outputs": [],
   "source": []
  }
 ],
 "metadata": {
  "kernelspec": {
   "display_name": "vae",
   "language": "python",
   "name": "python3"
  },
  "language_info": {
   "codemirror_mode": {
    "name": "ipython",
    "version": 3
   },
   "file_extension": ".py",
   "mimetype": "text/x-python",
   "name": "python",
   "nbconvert_exporter": "python",
   "pygments_lexer": "ipython3",
   "version": "3.11.6"
  }
 },
 "nbformat": 4,
 "nbformat_minor": 2
}
